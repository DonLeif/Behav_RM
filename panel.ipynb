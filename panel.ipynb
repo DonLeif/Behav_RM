{
 "cells": [
  {
   "cell_type": "code",
   "execution_count": 552,
   "metadata": {},
   "outputs": [
    {
     "data": {
      "application/javascript": "(function(root) {\n  function now() {\n    return new Date();\n  }\n\n  var force = true;\n\n  if (typeof root._bokeh_onload_callbacks === \"undefined\" || force === true) {\n    root._bokeh_onload_callbacks = [];\n    root._bokeh_is_loading = undefined;\n  }\n\n  if (typeof (root._bokeh_timeout) === \"undefined\" || force === true) {\n    root._bokeh_timeout = Date.now() + 5000;\n    root._bokeh_failed_load = false;\n  }\n\n  function run_callbacks() {\n    try {\n      root._bokeh_onload_callbacks.forEach(function(callback) {\n        if (callback != null)\n          callback();\n      });\n    } finally {\n      delete root._bokeh_onload_callbacks\n    }\n    console.debug(\"Bokeh: all callbacks have finished\");\n  }\n\n  function load_libs(css_urls, js_urls, js_modules, callback) {\n    if (css_urls == null) css_urls = [];\n    if (js_urls == null) js_urls = [];\n    if (js_modules == null) js_modules = [];\n\n    root._bokeh_onload_callbacks.push(callback);\n    if (root._bokeh_is_loading > 0) {\n      console.debug(\"Bokeh: BokehJS is being loaded, scheduling callback at\", now());\n      return null;\n    }\n    if (js_urls.length === 0 && js_modules.length === 0) {\n      run_callbacks();\n      return null;\n    }\n    console.debug(\"Bokeh: BokehJS not loaded, scheduling load and callback at\", now());\n\n    function on_load() {\n      root._bokeh_is_loading--;\n      if (root._bokeh_is_loading === 0) {\n        console.debug(\"Bokeh: all BokehJS libraries/stylesheets loaded\");\n        run_callbacks()\n      }\n    }\n\n    function on_error() {\n      console.error(\"failed to load \" + url);\n    }\n\n    for (var i = 0; i < css_urls.length; i++) {\n      var url = css_urls[i];\n      const element = document.createElement(\"link\");\n      element.onload = on_load;\n      element.onerror = on_error;\n      element.rel = \"stylesheet\";\n      element.type = \"text/css\";\n      element.href = url;\n      console.debug(\"Bokeh: injecting link tag for BokehJS stylesheet: \", url);\n      document.body.appendChild(element);\n    }\n\n    var skip = [];\n    if (window.requirejs) {\n      window.requirejs.config({'packages': {}, 'paths': {'gridstack': 'https://cdn.jsdelivr.net/npm/gridstack@4.2.5/dist/gridstack-h5', 'notyf': 'https://cdn.jsdelivr.net/npm/notyf@3/notyf.min'}, 'shim': {'gridstack': {'exports': 'GridStack'}}});\n      require([\"gridstack\"], function(GridStack) {\n\twindow.GridStack = GridStack\n\ton_load()\n      })\n      require([\"notyf\"], function() {\n\ton_load()\n      })\n      root._bokeh_is_loading = css_urls.length + 2;\n    } else {\n      root._bokeh_is_loading = css_urls.length + js_urls.length + js_modules.length;\n    }    if (((window['GridStack'] !== undefined) && (!(window['GridStack'] instanceof HTMLElement))) || window.requirejs) {\n      var urls = ['https://cdn.holoviz.org/panel/0.14.0/dist/bundled/gridstack/gridstack@4.2.5/dist/gridstack-h5.js'];\n      for (var i = 0; i < urls.length; i++) {\n        skip.push(urls[i])\n      }\n    }    if (((window['Notyf'] !== undefined) && (!(window['Notyf'] instanceof HTMLElement))) || window.requirejs) {\n      var urls = ['https://cdn.holoviz.org/panel/0.14.0/dist/bundled/notificationarea/notyf@3/notyf.min.js'];\n      for (var i = 0; i < urls.length; i++) {\n        skip.push(urls[i])\n      }\n    }    for (var i = 0; i < js_urls.length; i++) {\n      var url = js_urls[i];\n      if (skip.indexOf(url) >= 0) {\n\tif (!window.requirejs) {\n\t  on_load();\n\t}\n\tcontinue;\n      }\n      var element = document.createElement('script');\n      element.onload = on_load;\n      element.onerror = on_error;\n      element.async = false;\n      element.src = url;\n      console.debug(\"Bokeh: injecting script tag for BokehJS library: \", url);\n      document.head.appendChild(element);\n    }\n    for (var i = 0; i < js_modules.length; i++) {\n      var url = js_modules[i];\n      if (skip.indexOf(url) >= 0) {\n\tif (!window.requirejs) {\n\t  on_load();\n\t}\n\tcontinue;\n      }\n      var element = document.createElement('script');\n      element.onload = on_load;\n      element.onerror = on_error;\n      element.async = false;\n      element.src = url;\n      element.type = \"module\";\n      console.debug(\"Bokeh: injecting script tag for BokehJS library: \", url);\n      document.head.appendChild(element);\n    }\n    if (!js_urls.length && !js_modules.length) {\n      on_load()\n    }\n  };\n\n  function inject_raw_css(css) {\n    const element = document.createElement(\"style\");\n    element.appendChild(document.createTextNode(css));\n    document.body.appendChild(element);\n  }\n\n  var js_urls = [\"https://cdn.bokeh.org/bokeh/release/bokeh-2.4.3.min.js\", \"https://cdn.bokeh.org/bokeh/release/bokeh-gl-2.4.3.min.js\", \"https://cdn.bokeh.org/bokeh/release/bokeh-widgets-2.4.3.min.js\", \"https://cdn.bokeh.org/bokeh/release/bokeh-tables-2.4.3.min.js\", \"https://cdn.bokeh.org/bokeh/release/bokeh-mathjax-2.4.3.min.js\", \"https://unpkg.com/@holoviz/panel@0.14.0/dist/panel.min.js\"];\n  var js_modules = [];\n  var css_urls = [\"https://cdn.holoviz.org/panel/0.14.0/dist/css/debugger.css\", \"https://cdn.holoviz.org/panel/0.14.0/dist/css/alerts.css\", \"https://cdn.holoviz.org/panel/0.14.0/dist/css/card.css\", \"https://cdn.holoviz.org/panel/0.14.0/dist/css/widgets.css\", \"https://cdn.holoviz.org/panel/0.14.0/dist/css/markdown.css\", \"https://cdn.holoviz.org/panel/0.14.0/dist/css/json.css\", \"https://cdn.holoviz.org/panel/0.14.0/dist/css/loading.css\", \"https://cdn.holoviz.org/panel/0.14.0/dist/css/dataframe.css\"];\n  var inline_js = [    function(Bokeh) {\n      inject_raw_css(\"\\n    .bk.pn-loading.arc:before {\\n      background-image: url(\\\"data:image/svg+xml;base64,PHN2ZyB4bWxucz0iaHR0cDovL3d3dy53My5vcmcvMjAwMC9zdmciIHN0eWxlPSJtYXJnaW46IGF1dG87IGJhY2tncm91bmQ6IG5vbmU7IGRpc3BsYXk6IGJsb2NrOyBzaGFwZS1yZW5kZXJpbmc6IGF1dG87IiB2aWV3Qm94PSIwIDAgMTAwIDEwMCIgcHJlc2VydmVBc3BlY3RSYXRpbz0ieE1pZFlNaWQiPiAgPGNpcmNsZSBjeD0iNTAiIGN5PSI1MCIgZmlsbD0ibm9uZSIgc3Ryb2tlPSIjYzNjM2MzIiBzdHJva2Utd2lkdGg9IjEwIiByPSIzNSIgc3Ryb2tlLWRhc2hhcnJheT0iMTY0LjkzMzYxNDMxMzQ2NDE1IDU2Ljk3Nzg3MTQzNzgyMTM4Ij4gICAgPGFuaW1hdGVUcmFuc2Zvcm0gYXR0cmlidXRlTmFtZT0idHJhbnNmb3JtIiB0eXBlPSJyb3RhdGUiIHJlcGVhdENvdW50PSJpbmRlZmluaXRlIiBkdXI9IjFzIiB2YWx1ZXM9IjAgNTAgNTA7MzYwIDUwIDUwIiBrZXlUaW1lcz0iMDsxIj48L2FuaW1hdGVUcmFuc2Zvcm0+ICA8L2NpcmNsZT48L3N2Zz4=\\\");\\n      background-size: auto calc(min(50%, 400px));\\n    }\\n    \");\n    },    function(Bokeh) {\n      Bokeh.set_log_level(\"info\");\n    },\nfunction(Bokeh) {} // ensure no trailing comma for IE\n  ];\n\n  function run_inline_js() {\n    if ((root.Bokeh !== undefined) || (force === true)) {\n      for (var i = 0; i < inline_js.length; i++) {\n        inline_js[i].call(root, root.Bokeh);\n      }} else if (Date.now() < root._bokeh_timeout) {\n      setTimeout(run_inline_js, 100);\n    } else if (!root._bokeh_failed_load) {\n      console.log(\"Bokeh: BokehJS failed to load within specified timeout.\");\n      root._bokeh_failed_load = true;\n    }\n  }\n\n  if (root._bokeh_is_loading === 0) {\n    console.debug(\"Bokeh: BokehJS loaded, going straight to plotting\");\n    run_inline_js();\n  } else {\n    load_libs(css_urls, js_urls, js_modules, function() {\n      console.debug(\"Bokeh: BokehJS plotting callback run at\", now());\n      run_inline_js();\n    });\n  }\n}(window));",
      "application/vnd.holoviews_load.v0+json": ""
     },
     "metadata": {},
     "output_type": "display_data"
    },
    {
     "data": {
      "application/javascript": "\nif ((window.PyViz === undefined) || (window.PyViz instanceof HTMLElement)) {\n  window.PyViz = {comms: {}, comm_status:{}, kernels:{}, receivers: {}, plot_index: []}\n}\n\n\n    function JupyterCommManager() {\n    }\n\n    JupyterCommManager.prototype.register_target = function(plot_id, comm_id, msg_handler) {\n      if (window.comm_manager || ((window.Jupyter !== undefined) && (Jupyter.notebook.kernel != null))) {\n        var comm_manager = window.comm_manager || Jupyter.notebook.kernel.comm_manager;\n        comm_manager.register_target(comm_id, function(comm) {\n          comm.on_msg(msg_handler);\n        });\n      } else if ((plot_id in window.PyViz.kernels) && (window.PyViz.kernels[plot_id])) {\n        window.PyViz.kernels[plot_id].registerCommTarget(comm_id, function(comm) {\n          comm.onMsg = msg_handler;\n        });\n      } else if (typeof google != 'undefined' && google.colab.kernel != null) {\n        google.colab.kernel.comms.registerTarget(comm_id, (comm) => {\n          var messages = comm.messages[Symbol.asyncIterator]();\n          function processIteratorResult(result) {\n            var message = result.value;\n            console.log(message)\n            var content = {data: message.data, comm_id};\n            var buffers = []\n            for (var buffer of message.buffers || []) {\n              buffers.push(new DataView(buffer))\n            }\n            var metadata = message.metadata || {};\n            var msg = {content, buffers, metadata}\n            msg_handler(msg);\n            return messages.next().then(processIteratorResult);\n          }\n          return messages.next().then(processIteratorResult);\n        })\n      }\n    }\n\n    JupyterCommManager.prototype.get_client_comm = function(plot_id, comm_id, msg_handler) {\n      if (comm_id in window.PyViz.comms) {\n        return window.PyViz.comms[comm_id];\n      } else if (window.comm_manager || ((window.Jupyter !== undefined) && (Jupyter.notebook.kernel != null))) {\n        var comm_manager = window.comm_manager || Jupyter.notebook.kernel.comm_manager;\n        var comm = comm_manager.new_comm(comm_id, {}, {}, {}, comm_id);\n        if (msg_handler) {\n          comm.on_msg(msg_handler);\n        }\n      } else if ((plot_id in window.PyViz.kernels) && (window.PyViz.kernels[plot_id])) {\n        var comm = window.PyViz.kernels[plot_id].connectToComm(comm_id);\n        comm.open();\n        if (msg_handler) {\n          comm.onMsg = msg_handler;\n        }\n      } else if (typeof google != 'undefined' && google.colab.kernel != null) {\n        var comm_promise = google.colab.kernel.comms.open(comm_id)\n        comm_promise.then((comm) => {\n          window.PyViz.comms[comm_id] = comm;\n          if (msg_handler) {\n            var messages = comm.messages[Symbol.asyncIterator]();\n            function processIteratorResult(result) {\n              var message = result.value;\n              var content = {data: message.data};\n              var metadata = message.metadata || {comm_id};\n              var msg = {content, metadata}\n              msg_handler(msg);\n              return messages.next().then(processIteratorResult);\n            }\n            return messages.next().then(processIteratorResult);\n          }\n        }) \n        var sendClosure = (data, metadata, buffers, disposeOnDone) => {\n          return comm_promise.then((comm) => {\n            comm.send(data, metadata, buffers, disposeOnDone);\n          });\n        };\n        var comm = {\n          send: sendClosure\n        };\n      }\n      window.PyViz.comms[comm_id] = comm;\n      return comm;\n    }\n    window.PyViz.comm_manager = new JupyterCommManager();\n    \n\n\nvar JS_MIME_TYPE = 'application/javascript';\nvar HTML_MIME_TYPE = 'text/html';\nvar EXEC_MIME_TYPE = 'application/vnd.holoviews_exec.v0+json';\nvar CLASS_NAME = 'output';\n\n/**\n * Render data to the DOM node\n */\nfunction render(props, node) {\n  var div = document.createElement(\"div\");\n  var script = document.createElement(\"script\");\n  node.appendChild(div);\n  node.appendChild(script);\n}\n\n/**\n * Handle when a new output is added\n */\nfunction handle_add_output(event, handle) {\n  var output_area = handle.output_area;\n  var output = handle.output;\n  if ((output.data == undefined) || (!output.data.hasOwnProperty(EXEC_MIME_TYPE))) {\n    return\n  }\n  var id = output.metadata[EXEC_MIME_TYPE][\"id\"];\n  var toinsert = output_area.element.find(\".\" + CLASS_NAME.split(' ')[0]);\n  if (id !== undefined) {\n    var nchildren = toinsert.length;\n    var html_node = toinsert[nchildren-1].children[0];\n    html_node.innerHTML = output.data[HTML_MIME_TYPE];\n    var scripts = [];\n    var nodelist = html_node.querySelectorAll(\"script\");\n    for (var i in nodelist) {\n      if (nodelist.hasOwnProperty(i)) {\n        scripts.push(nodelist[i])\n      }\n    }\n\n    scripts.forEach( function (oldScript) {\n      var newScript = document.createElement(\"script\");\n      var attrs = [];\n      var nodemap = oldScript.attributes;\n      for (var j in nodemap) {\n        if (nodemap.hasOwnProperty(j)) {\n          attrs.push(nodemap[j])\n        }\n      }\n      attrs.forEach(function(attr) { newScript.setAttribute(attr.name, attr.value) });\n      newScript.appendChild(document.createTextNode(oldScript.innerHTML));\n      oldScript.parentNode.replaceChild(newScript, oldScript);\n    });\n    if (JS_MIME_TYPE in output.data) {\n      toinsert[nchildren-1].children[1].textContent = output.data[JS_MIME_TYPE];\n    }\n    output_area._hv_plot_id = id;\n    if ((window.Bokeh !== undefined) && (id in Bokeh.index)) {\n      window.PyViz.plot_index[id] = Bokeh.index[id];\n    } else {\n      window.PyViz.plot_index[id] = null;\n    }\n  } else if (output.metadata[EXEC_MIME_TYPE][\"server_id\"] !== undefined) {\n    var bk_div = document.createElement(\"div\");\n    bk_div.innerHTML = output.data[HTML_MIME_TYPE];\n    var script_attrs = bk_div.children[0].attributes;\n    for (var i = 0; i < script_attrs.length; i++) {\n      toinsert[toinsert.length - 1].childNodes[1].setAttribute(script_attrs[i].name, script_attrs[i].value);\n    }\n    // store reference to server id on output_area\n    output_area._bokeh_server_id = output.metadata[EXEC_MIME_TYPE][\"server_id\"];\n  }\n}\n\n/**\n * Handle when an output is cleared or removed\n */\nfunction handle_clear_output(event, handle) {\n  var id = handle.cell.output_area._hv_plot_id;\n  var server_id = handle.cell.output_area._bokeh_server_id;\n  if (((id === undefined) || !(id in PyViz.plot_index)) && (server_id !== undefined)) { return; }\n  var comm = window.PyViz.comm_manager.get_client_comm(\"hv-extension-comm\", \"hv-extension-comm\", function () {});\n  if (server_id !== null) {\n    comm.send({event_type: 'server_delete', 'id': server_id});\n    return;\n  } else if (comm !== null) {\n    comm.send({event_type: 'delete', 'id': id});\n  }\n  delete PyViz.plot_index[id];\n  if ((window.Bokeh !== undefined) & (id in window.Bokeh.index)) {\n    var doc = window.Bokeh.index[id].model.document\n    doc.clear();\n    const i = window.Bokeh.documents.indexOf(doc);\n    if (i > -1) {\n      window.Bokeh.documents.splice(i, 1);\n    }\n  }\n}\n\n/**\n * Handle kernel restart event\n */\nfunction handle_kernel_cleanup(event, handle) {\n  delete PyViz.comms[\"hv-extension-comm\"];\n  window.PyViz.plot_index = {}\n}\n\n/**\n * Handle update_display_data messages\n */\nfunction handle_update_output(event, handle) {\n  handle_clear_output(event, {cell: {output_area: handle.output_area}})\n  handle_add_output(event, handle)\n}\n\nfunction register_renderer(events, OutputArea) {\n  function append_mime(data, metadata, element) {\n    // create a DOM node to render to\n    var toinsert = this.create_output_subarea(\n    metadata,\n    CLASS_NAME,\n    EXEC_MIME_TYPE\n    );\n    this.keyboard_manager.register_events(toinsert);\n    // Render to node\n    var props = {data: data, metadata: metadata[EXEC_MIME_TYPE]};\n    render(props, toinsert[0]);\n    element.append(toinsert);\n    return toinsert\n  }\n\n  events.on('output_added.OutputArea', handle_add_output);\n  events.on('output_updated.OutputArea', handle_update_output);\n  events.on('clear_output.CodeCell', handle_clear_output);\n  events.on('delete.Cell', handle_clear_output);\n  events.on('kernel_ready.Kernel', handle_kernel_cleanup);\n\n  OutputArea.prototype.register_mime_type(EXEC_MIME_TYPE, append_mime, {\n    safe: true,\n    index: 0\n  });\n}\n\nif (window.Jupyter !== undefined) {\n  try {\n    var events = require('base/js/events');\n    var OutputArea = require('notebook/js/outputarea').OutputArea;\n    if (OutputArea.prototype.mime_types().indexOf(EXEC_MIME_TYPE) == -1) {\n      register_renderer(events, OutputArea);\n    }\n  } catch(err) {\n  }\n}\n",
      "application/vnd.holoviews_load.v0+json": ""
     },
     "metadata": {},
     "output_type": "display_data"
    },
    {
     "data": {
      "text/html": [
       "<style>.bk-root, .bk-root .bk:before, .bk-root .bk:after {\n",
       "  font-family: var(--jp-ui-font-size1);\n",
       "  font-size: var(--jp-ui-font-size1);\n",
       "  color: var(--jp-ui-font-color1);\n",
       "}\n",
       "</style>"
      ]
     },
     "metadata": {},
     "output_type": "display_data"
    }
   ],
   "source": [
    "import pandas as pd; import numpy as np; import matplotlib.pyplot as plt\n",
    "import panel as pn\n",
    "pn.extension(comms='vscode')\n",
    "%matplotlib inline\n",
    "\n",
    "mode = 'bid_price'\n",
    "#mode = 'acc_rej'\n",
    "assert mode in ['acc_rej','bid_price']\n",
    "total_rounds = 2\n",
    "max_cap = 5\n",
    "max_horizon = 40\n",
    "\n",
    "stationary_arrival_rate = 0.3\n",
    "\n",
    "peak = 0.61538\n",
    "non_stationary_arrival_rates = np.concatenate((np.linspace(0,peak,10), np.linspace(peak,0,31)[1:]))\n",
    "non_stationary_arrival_rates.mean()\n",
    "\n",
    "# buttons\n",
    "button_size_small = 50\n",
    "button_size_large = 100\n",
    "\n",
    "class DataHandler():\n",
    "\n",
    "    def __init__(self,max_cap,max_horizon,total_rounds,user_id,mode):\n",
    "        self.total_revenue = 0\n",
    "        self.current_wtp = 0\n",
    "\n",
    "        self.current_occ = 0 \n",
    "        self.current_time = 0\n",
    "\n",
    "        self.max_horizon = max_horizon\n",
    "        self.max_cap = max_cap\n",
    "\n",
    "        self.wtps = np.random.randint(50, 101, size=self.max_horizon)\n",
    "\n",
    "        self.current_round = 1\n",
    "        self.total_rounds = total_rounds\n",
    "\n",
    "        self.id = user_id\n",
    "        self.mode = mode\n",
    "        self.log = pd.DataFrame(columns=['mode','user_id','round','timestep','wtp','bid_price','accept','revenue'])\n",
    "\n",
    "    def reset(self):\n",
    "        self.total_revenue = 0\n",
    "        self.current_wtp = 0\n",
    "\n",
    "        self.current_occ = 0 \n",
    "        self.current_time = 0\n",
    "\n",
    "        self.wtps = np.random.randint(50, 101, size=self.max_horizon)\n",
    "\n",
    "        self.current_round += 1\n",
    "\n",
    "\n",
    "    @property\n",
    "    def leftover_capacity(self):\n",
    "        return self.max_cap - self.current_occ\n",
    "\n",
    "    @property\n",
    "    def leftover_time(self):\n",
    "        return self.max_horizon - self.current_time\n",
    "\n",
    "data = DataHandler(max_cap,max_horizon,total_rounds,'leif',mode)"
   ]
  },
  {
   "cell_type": "code",
   "execution_count": 553,
   "metadata": {},
   "outputs": [],
   "source": [
    "header = pn.pane.Markdown(\"# Panel Dashboarding\")\n",
    "task_descr = pn.pane.Markdown(\"\"\"\n",
    "###Accept or Reject arriving Customers<br>\n",
    "You start managing customers when there are {} days left until departure.<br>\n",
    "Each day, at most one customer requests a seat with given probability.<br>\n",
    "The customer indicates a maximum price he is willing to pay.\"\"\".format(max_horizon))"
   ]
  },
  {
   "cell_type": "code",
   "execution_count": 554,
   "metadata": {},
   "outputs": [],
   "source": [
    "app = pn.Column(header, task_descr)"
   ]
  },
  {
   "cell_type": "code",
   "execution_count": 555,
   "metadata": {},
   "outputs": [],
   "source": [
    "round = pn.pane.Markdown(\"## Round [{} / {}]\".format(data.current_round,data.total_rounds))\n",
    "app.append(round)"
   ]
  },
  {
   "cell_type": "code",
   "execution_count": 556,
   "metadata": {},
   "outputs": [],
   "source": [
    "total_revenue = pn.pane.Markdown(\"##Total Revenue: {} €\".format(data.total_revenue))\n",
    "app.append(total_revenue)"
   ]
  },
  {
   "cell_type": "code",
   "execution_count": 557,
   "metadata": {},
   "outputs": [],
   "source": [
    "# leftover capacity bar\n",
    "leftover_capacity = pn.pane.Markdown(f\"### Leftover Capacity: {data.leftover_capacity}\")\n",
    "leftover_capacity_bar = pn.indicators.Progress(name='Progress', value=0,max=data.max_cap, width=200)\n",
    "leftover_element = pn.Column(leftover_capacity, leftover_capacity_bar)\n",
    "\n",
    "\n",
    "# days until departure bar\n",
    "days_until_departure = pn.pane.Markdown(f\"### Days Until Departure: {data.leftover_time}\")\n",
    "days_until_departure_bar = pn.indicators.Progress(name='Progress', value=0,max=data.max_horizon, width=200)\n",
    "days_until_departure_element = pn.Column(days_until_departure, days_until_departure_bar)\n",
    "\n",
    "bars = pn.Row(leftover_element, days_until_departure_element)\n",
    "\n",
    "progress = pn.indicators.Progress(name='Progress', value=20, width=200)\n",
    "\n",
    "app.append(bars)\n"
   ]
  },
  {
   "cell_type": "code",
   "execution_count": 558,
   "metadata": {},
   "outputs": [],
   "source": [
    "### ACCEPT REJECT BLOCK\n",
    "\n",
    "\n",
    "customer_information = pn.pane.Markdown(\"### A new customer arrives and is willing to pay {}\".format(data.wtps[0]),width=350,height=80)\n",
    "\n",
    "accept_button = pn.widgets.Button(name='Accept', button_type='success',width=button_size_small)\n",
    "reject_button = pn.widgets.Button(name='Reject', button_type='danger',width=button_size_small)\n",
    "ok_button = pn.widgets.Button(name='OK', button_type='primary',width=button_size_large)\n",
    "next_round_button = pn.widgets.Button(name='Next Round', button_type='primary',width=button_size_large)\n",
    "button_row = pn.Row(accept_button, reject_button)\n",
    "\n",
    "accept_reject_block = pn.Column(customer_information, button_row)\n",
    "\n",
    "### BID PRICE BLOCK\n",
    "\n",
    "bid_price = pn.widgets.IntSlider(name='Bid Price', start=0, end=100, value=0, step=1)\n",
    "bid_price_button = pn.widgets.Button(name='Execute Bid Price', button_type='primary',disabled=True,width=button_size_large)\n",
    "bid_price_information = pn.pane.Markdown(\"### Set a bid price for the first day.<br> \",width=350,height=80)\n",
    "bid_price_block = pn.Column(bid_price_information, bid_price, bid_price_button)\n",
    "\n",
    "if mode == 'acc_rej':\n",
    "    app.append(accept_reject_block)\n",
    "elif mode == 'bid_price':\n",
    "    app.append(bid_price_block)\n",
    "\n",
    "# observe changes in bid_price int slider\n",
    "def bid_price_change(event):\n",
    "    if bid_price.value > 0:\n",
    "        bid_price_button.disabled = False\n",
    "    else:\n",
    "        bid_price_button.disabled = True\n",
    "\n",
    "bid_price.param.watch(bid_price_change, 'value')\n",
    "\n",
    "\n",
    "\n",
    "def exec_bid_price(event):\n",
    "    deal = bid_price.value <= data.wtps[data.current_time]\n",
    "\n",
    "    if deal:\n",
    "        data.total_revenue += bid_price.value  #incr revenue\n",
    "        data.current_occ += 1                  #incr occ\n",
    "\n",
    "        bid_price_information.object = f\"### You sold a seat for {bid_price.value}€.<br>Set the bid price for the next day.\"\n",
    "\n",
    "    else:\n",
    "        bid_price_information.object = f\"### You did not sell a seat.<br>Set the bid price for the next day.\"\n",
    "    \n",
    "    data.current_time += 1                 #move in time\n",
    "    leftover_capacity.object = f\"### Leftover Capacity: {data.leftover_capacity}\"\n",
    "    leftover_capacity_bar.value = data.current_occ\n",
    "    days_until_departure.object = f\"### Days Until Departure: {data.leftover_time}\"\n",
    "    days_until_departure_bar.value = data.leftover_time\n",
    "    total_revenue.object = \"##Total Revenue: {} €\".format(data.total_revenue)\n",
    "\n",
    "    data.log = data.log.append({'mode':data.mode,'user_id': data.id, 'round': data.current_round, \n",
    "    'timestep': data.current_time, 'wtp': data.current_wtp,'bid_price': bid_price.value,\n",
    "    'accept': int(deal), 'revenue': data.total_revenue}, ignore_index=True)\n",
    "\n",
    "    if data.leftover_capacity == 0 or data.leftover_time == 0:\n",
    "\n",
    "        if data.current_round < data.total_rounds:\n",
    "            bid_price_block.remove(bid_price_button)\n",
    "            bid_price_block.append(next_round_button)\n",
    "            bid_price_information.object = \"###The flight is fully booked or departing today.<br> \"\n",
    "\n",
    "        else:\n",
    "            bid_price_block.remove(bid_price_button)\n",
    "            bid_price_block.remove(bid_price)\n",
    "            bid_price_information.object = \"\"\"\n",
    "            ###The flight is fully booked or departing today.\n",
    "            Your data has been saved. Thank you for participating. You can close this window now.\"\"\""
   ]
  },
  {
   "cell_type": "code",
   "execution_count": 559,
   "metadata": {},
   "outputs": [
    {
     "data": {
      "text/plain": [
       "Watcher(inst=Button(button_type='primary', disabled=True, name='Execute Bid Price', width=100), cls=<class 'panel.widgets.button.Button'>, fn=<function exec_bid_price at 0x283025a60>, mode='args', onlychanged=False, parameter_names=('clicks',), what='value', queued=False, precedence=0)"
      ]
     },
     "execution_count": 559,
     "metadata": {},
     "output_type": "execute_result"
    }
   ],
   "source": [
    "\n",
    "\n",
    "\n",
    "# when clicking accept button, update the progress bar\n",
    "def accept(event):\n",
    "    \"\"\"\n",
    "    Accept a customer with a given wtp.\n",
    "    Update all elements of the data handler\n",
    "    and the progress bar.\n",
    "    Then execute next_day() to jump to the next day and manage rounds.\n",
    "    \"\"\"\n",
    "    \n",
    "\n",
    "    data.current_occ +=1\n",
    "    data.current_time +=1\n",
    "    \n",
    "    leftover_capacity_bar.value = data.current_occ\n",
    "    days_until_departure_bar.value = data.current_time\n",
    "\n",
    "    leftover_capacity.value = f\"### Leftover Capacity: {data.leftover_capacity}\"\n",
    "    days_until_departure.object = f\"### Days Until Departure: {data.leftover_time}\"\n",
    "\n",
    "    data.total_revenue += data.current_wtp\n",
    "    total_revenue.object = \"##Total Revenue: {} €\".format(data.total_revenue)\n",
    "\n",
    "    data.log = data.log.append({'mode':data.mode,'user_id': data.id, 'round': data.current_round, \n",
    "    'timestep': data.current_time, 'wtp': data.current_wtp,'bid_price':data.current_wtp,\n",
    "    'accept': 1, 'revenue': data.total_revenue}, ignore_index=True)\n",
    "\n",
    "    new_day()\n",
    "\n",
    "def reject(event):\n",
    "    \"\"\"\n",
    "    Reject a customer with a given wtp.\n",
    "    Update all elements of the data handler\n",
    "    and the progress bar.\n",
    "    Then execute next_day() to jump to the next day and manage rounds.\n",
    "    \"\"\"\n",
    "    data.current_time +=1\n",
    "    days_until_departure_bar.value = data.current_time\n",
    "    days_until_departure.object = f\"### Days Until Departure: {data.leftover_time}\"\n",
    "\n",
    "    data.log = data.log.append({'mode':data.mode,'user_id': data.id, 'round': data.current_round, \n",
    "    'timestep': data.current_time, 'wtp': data.current_wtp,'bid_price':data.current_wtp + 1,\n",
    "    'accept': 0, 'revenue': data.total_revenue}, ignore_index=True)\n",
    "    \n",
    "    new_day()\n",
    "    \n",
    "def new_day(event=None):\n",
    "    \"\"\"\n",
    "    Check if the current round is over.\n",
    "    If yes, reset the data handler and update the round counter.\n",
    "    In any case, update the wtp and the customer information.\n",
    "    \"\"\"\n",
    "\n",
    "    data.current_wtp = 0\n",
    "    if data.leftover_capacity == 0 or data.leftover_time == 0:\n",
    "\n",
    "        if data.current_round < data.total_rounds:\n",
    "            button_row.clear()\n",
    "            button_row.append(next_round_button)\n",
    "            customer_information.object = \"###The flight is fully booked or departing today.\"\n",
    "\n",
    "        else:\n",
    "            button_row.clear()\n",
    "            customer_information.object = \"\"\"\n",
    "            ###The flight is fully booked or departing today.\n",
    "            Your data has been saved. Thank you for participating. You can close this window now.\"\"\"\n",
    "\n",
    "\n",
    "    else:\n",
    "        customer_arrives = np.random.choice([True, False], p=[stationary_arrival_rate, 1-stationary_arrival_rate])\n",
    "        if customer_arrives:\n",
    "            data.current_wtp = data.wtps[data.current_time]\n",
    "            customer_information.object = \"### A new customer arrives and is willing to pay {}\".format(data.current_wtp)\n",
    "            button_row.clear()\n",
    "            button_row.append(accept_button)\n",
    "            button_row.append(reject_button)\n",
    "\n",
    "        else:\n",
    "            customer_information.object = \"### No customer arrives today\"\n",
    "            button_row.clear()\n",
    "            button_row.append(ok_button)\n",
    "\n",
    "def reset(event=None):\n",
    "    \"\"\"\n",
    "    Reset the data handler and update the round counter.\n",
    "    \"\"\"\n",
    "\n",
    "    data.reset()\n",
    "\n",
    "    round.object = \"## Round [{} / {}]\".format(data.current_round,data.total_rounds)\n",
    "\n",
    "    total_revenue.object = \"##Total Revenue: {} €\".format(data.total_revenue)\n",
    "\n",
    "    leftover_capacity_bar.value = data.current_occ\n",
    "    days_until_departure_bar.value = data.current_time\n",
    "\n",
    "    leftover_capacity.value = f\"### Leftover Capacity: {data.leftover_capacity}\"\n",
    "    days_until_departure.object = f\"### Days Until Departure: {data.leftover_time}\"\n",
    "\n",
    "    if data.mode == 'acc_rej':\n",
    "        button_row.clear()\n",
    "        button_row.append(accept_button)\n",
    "        button_row.append(reject_button)\n",
    "        new_day()\n",
    "\n",
    "    else:\n",
    "        bid_price_block.remove(next_round_button)\n",
    "        bid_price_block.append(bid_price_button)\n",
    "        bid_price_information.object = \"### Set a bid price for the first day.<br> \"\n",
    "        \n",
    "next_round_button.on_click(reset)\n",
    "accept_button.on_click(accept)\n",
    "reject_button.on_click(reject)\n",
    "ok_button.on_click(reject)\n",
    "\n",
    "bid_price_button.on_click(exec_bid_price)\n",
    "\n"
   ]
  },
  {
   "cell_type": "code",
   "execution_count": 560,
   "metadata": {},
   "outputs": [
    {
     "data": {
      "text/plain": [
       "Watcher(inst=PasswordInput(name='Enter your password', placeholder='your password...'), cls=<class 'panel.widgets.input.PasswordInput'>, fn=<function check_password at 0x28324bca0>, mode='args', onlychanged=True, parameter_names=('value',), what='value', queued=False, precedence=0)"
      ]
     },
     "execution_count": 560,
     "metadata": {},
     "output_type": "execute_result"
    }
   ],
   "source": [
    "# password field\n",
    "user_field = pn.widgets.TextInput(name='User ID', placeholder='Enter your user ID')\n",
    "password_field = pn.widgets.PasswordInput(name='Enter your password', placeholder='your password...')\n",
    "master_container = pn.Column(user_field,password_field)\n",
    "\n",
    "correct_passwords = ['1234']\n",
    "\n",
    "def check_password(event):\n",
    "    \"\"\"\n",
    "    Check if the entered password is correct.\n",
    "    If yes, show the experiment.\n",
    "    If not, show an error message.\n",
    "    \"\"\"\n",
    "    pw_check = password_field.value == user_field.value + '_manager'\n",
    "\n",
    "    if pw_check:\n",
    "        master_container.remove(password_field)\n",
    "        master_container.remove(user_field)\n",
    "        master_container.append(app)\n",
    "        data.id = user_field.value\n",
    "    else:\n",
    "        password_field.name = 'Wrong password. Try again.'\n",
    "        password_field.value = ''\n",
    "\n",
    "password_field.param.watch(check_password, 'value')"
   ]
  },
  {
   "cell_type": "code",
   "execution_count": 561,
   "metadata": {},
   "outputs": [
    {
     "name": "stdout",
     "output_type": "stream",
     "text": [
      "Launching server at http://localhost:56108\n"
     ]
    },
    {
     "data": {
      "text/plain": [
       "<panel.io.server.Server at 0x2811f4d30>"
      ]
     },
     "execution_count": 561,
     "metadata": {},
     "output_type": "execute_result"
    }
   ],
   "source": [
    "master_container.show()"
   ]
  },
  {
   "cell_type": "code",
   "execution_count": 562,
   "metadata": {},
   "outputs": [],
   "source": [
    "# from bokeh.plotting import figure\n",
    "\n",
    "# p1 = figure(width=300, height=300)\n",
    "# p1.line([1, 2, 3], [1, 2, 3])\n",
    "\n",
    "# tabs = pn.Tabs(p1)\n",
    "\n",
    "# # Add a tab\n",
    "# tabs.append(('Slider', pn.widgets.FloatSlider()))\n",
    "\n",
    "# # Add multiple tabs\n",
    "# tabs.extend([\n",
    "#     ('Text', pn.widgets.TextInput()),\n",
    "#     ('Color', pn.widgets.ColorPicker())\n",
    "# ])\n",
    "\n",
    "# tabs"
   ]
  },
  {
   "cell_type": "code",
   "execution_count": null,
   "metadata": {},
   "outputs": [],
   "source": []
  },
  {
   "cell_type": "code",
   "execution_count": null,
   "metadata": {},
   "outputs": [],
   "source": []
  }
 ],
 "metadata": {
  "kernelspec": {
   "display_name": "Python 3.9.9 ('base')",
   "language": "python",
   "name": "python3"
  },
  "language_info": {
   "codemirror_mode": {
    "name": "ipython",
    "version": 3
   },
   "file_extension": ".py",
   "mimetype": "text/x-python",
   "name": "python",
   "nbconvert_exporter": "python",
   "pygments_lexer": "ipython3",
   "version": "3.9.9"
  },
  "orig_nbformat": 4,
  "vscode": {
   "interpreter": {
    "hash": "d201cb1b3f295ebaa628d299059d00768b3a2f90c9f29de51205bcdd27a156e5"
   }
  }
 },
 "nbformat": 4,
 "nbformat_minor": 2
}
